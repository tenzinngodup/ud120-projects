{
 "cells": [
  {
   "cell_type": "code",
   "execution_count": 7,
   "metadata": {
    "collapsed": false
   },
   "outputs": [],
   "source": [
    "import pandas as pd\n",
    "import glob\n",
    "import os\n",
    "path = r'mix20_rand700_tokens_cleaned/tokens/neg'                     # use your path\n",
    "all_files = glob.glob(os.path.join(path, \"*.txt\"))     # advisable to use os.path.join as this makes concatenation OS independent\n",
    "df = pd.concat(pd.read_csv(f) for f in all_files)    # doesn't create a list, nor does it append to one\n",
    "\n",
    "# path =r'mix20_rand700_tokens_cleaned/tokens/neg' # use your path\n",
    "# allFiles = glob.glob(path + \"/*.txt\")\n",
    "# frame = pd.DataFrame()\n",
    "# list_ = []\n",
    "# for file_ in allFiles:\n",
    "#     df = pd.read_csv(file_,index_col=None, header=0)\n",
    "#     list_.append(df)\n",
    "# frame = pd.concat(list_)"
   ]
  },
  {
   "cell_type": "code",
   "execution_count": 8,
   "metadata": {
    "collapsed": false
   },
   "outputs": [
    {
     "data": {
      "text/html": [
       "<div>\n",
       "<table border=\"1\" class=\"dataframe\">\n",
       "  <thead>\n",
       "    <tr style=\"text-align: right;\">\n",
       "      <th></th>\n",
       "      <th></th>\n",
       "      <th>review by ed johnson-ott</th>\n",
       "      <th>! a member of the faculty</th>\n",
       "      <th>\" \" a christmas story</th>\n",
       "      <th>\" \" a clockwork orange</th>\n",
       "      <th>\" \" a time to kill</th>\n",
       "      <th>\" \" alien</th>\n",
       "      <th>\" \" apollo 13</th>\n",
       "      <th>\" \" armageddon</th>\n",
       "      <th>\" \" batman forever</th>\n",
       "      <th>...</th>\n",
       "      <th>year : 2000 . starring gary sinise</th>\n",
       "      <th>year : 2000 . starring jim carrey</th>\n",
       "      <th>year : 2000 starring angela bassett</th>\n",
       "      <th>yes</th>\n",
       "      <th>you always have to be careful with the first official studio release out of the gate each year . they're obviously films for which the studios have no great hopes ( having missed both the deadline for academy award eligibility and the big box-office holiday season ) . combine that with howie long's first starring action role</th>\n",
       "      <th>you don't look at a ren� magritte painting and search for a deeper meaning . you likewise don't look at one for 88 minutes straight . surrealist works are notable for their quirks</th>\n",
       "      <th>you know you're in big trouble when halfway through a movie you ask yourself</th>\n",
       "      <th>you think that these people only exist in the movies</th>\n",
       "      <th>young einstein is embarrassingly lame</th>\n",
       "      <th>� copyright 2001 planet sick-boy . all rights reserved . august and september are a wasteland when it comes to children's films</th>\n",
       "    </tr>\n",
       "  </thead>\n",
       "  <tbody>\n",
       "  </tbody>\n",
       "</table>\n",
       "<p>0 rows × 25781 columns</p>\n",
       "</div>"
      ],
      "text/plain": [
       "Empty DataFrame\n",
       "Columns: [ ,   review by ed johnson-ott ,  ! a member of the faculty ,  \" \" a christmas story ,  \" \" a clockwork orange ,  \" \" a time to kill ,  \" \" alien ,  \" \" apollo 13 ,  \" \" armageddon ,  \" \" batman forever ,  \" \" boys and girls ,  \" \" close encounters of the third kind ,  \" \" college stud ,  \" \" day two \" title-card device underscores the tedium . comic anthony anderson scores as chestnut's boisterous best-friend ,  \" \" down to you \" and \" she's all that . \" while the prinze oeuvre is hard to defend ,  \" \" e . t . the extra-terrestrial ,  \" \" escape from l . a . ,  \" \" escape from new york ,  \" \" ghosts of mars \" is an unashamed b-movie punctuated by a b-movie plot ,  \" \" greedy ,  \" \" greystoke : the legend of tarzan ,  \" \" halloween \" and \" escape from new york \" is a lousy western all gussied up to look like a futuristic horror flick . the production is set on mars in 2176 ,  \" \" insurrection ,  \" \" irene \" seems like an even bigger disappointment . the brothers pile on the offensive humor ,  \" \" lolita ,  \" \" nell ,  \" \" raging bull \" ) ,  \" \" road house \" and \" showgirls \" in the bad movie hall of fame ,  \" \" sexy ways ,  \" \" simply irresistible \" attempts to be a whimsical romantic comedy but ,  \" \" the abyss ,  \" \" the client \" --schumacher certainly has that kind of influence . is \" 8mm \" something you really want to see ? probably not . the first two-thirds of \" 8mm \" unwind as a fairly conventional missing persons drama ,  \" \" the thing \" ) and ,  \" \" true romance \" ) while quoting embarrassing lines like \" i'm not wearing any underwear . \" i hope she got paid a lot of money to do this . here's an example of some of the film's flat-out stupidity . sandra purchases a used car and disguises herself in a red wig prior to stalking two of the film's duplicitous lovers . she drives the motorbiking couple off a cliff while blaring her favorite \" the sound of music \" on her car stereo ,  \" \" urban legend ,  \" \" vampires \" ) ,  \" \" vampires \" ) strikes out with this sci-fi eco-fable that's so bad it boggles the mind to imagine how the project ever got green-lit . the script by carpenter and larry sulkis appears to have been lifted directly from last year's \" pitch black ,  \" 'cept no travolta and no real interest put into him . poor ,  \" . . . he's not in any grade ,  \" 100% cotton \" ,  \" 101 dalmatians \" ) dressed up as new is the newest money machine from the home of the mouse that roared . professor phillip brainard ( williams ) is a terminally forgetful scientist teaching at a small college . his fiancee ,  \" 1989's \" deep star six ,  \" 1991's ,  \" 1993's ,  \" 2001 \" ) able to detect a hole in the main chamber but not one in the engine ? why did tim robbins' character have to go outside the ship when the solution easily presented itself from inside ? shouldn't the astronauts be better trained to deal with a hull breach ? why are the characters such idiots ? because the script makes little attempt to properly develop them . all the \" conflict \" is clumsily delivered in excruciatingly obvious exposition in the opening scene ( which rips off orson welles and robert altman by utilizing a long opening tracking shot ) during which the characters repeatedly tell each other about things all of them should already know : \" jim ,  \" 54 \" is part of the blossoming subgenre ,  \" 8mm \" is shocking only in its banality . ,  \" a 10-day \" tough love \" emotionally punishing plan to get him back . unfortunately ,  \" a 15-foot tall ,  \" a 1984 farce by blake edwards in which bigamist tv reporter dudley moore has two wives giving birth at the same time and place . skip ,  \" a book which figures into the movie's plot . but ,  \" a bug's life ,  \" a bug's life .1,  \" a bug's life .2,  \" a character wandered around as people were being shot at in a big suspense sequence ,  \" a christmas story . \" i would forgive him for this misfire ,  \" a civil action ,  \" a civil action \" is an astoundingly empty-headed drama ,  \" a civil action \" is set in 1982 in the town of woburn ,  \" a civil action \" seemed to me ,  \" a dog \" and asks marty if he will take her home in return for 5 dollars . marty finds the idea objectionable and refuses . quite right too ! however marty watches as a man with less scruples than himself takes the money and wanders over to \" the dog \" . this man takes one look at her and soon decides to walk off leaving the young lady alone and in tears . this has got to be one of the cruellest things i have seen in a long time . unspeakably hurtful . marty sees this and being the good hearted man he is ,  \" a fact that gets worked into the plot . another ho-hummer . michael faraday's questioning of oliver's kosher-ness as a designer of malls starts with his 2-seconds' glimpse of plans that are not of a mall but of an office building . quick eyes ,  \" a film like ,  \" a film referred to more than once . but he is a sub-kurtz . the four kids raft over . the farmers with automatic weapons take care of them . oh ,  \" a film that dove right into the life and past of its character and examined him extremely well . he can write a flawed character ,  \" a lover that keeps making her start these scams in the first place . add insult to injury with some of the worst stylistic choices in cinematic history ( literally half of the film is either in slow motion or uses a strobe effect ) ,  \" a male ,  \" a remake of the 1980 john cassavetes film ,  \" a rugrats movie ,  \" a self-consciously \" hip \" cinematic rendering of the old tv series still looked upon fondly by so many baby-boomers . well ,  \" a trashy potboiler \" that \" appeals only to the s&m crowd . \" actually ,  \" a wall collapses near the nubile warrior . with her face on the floor ,  \" a wealth of laughs and merriment is sure to follow ,  \" about an ugly monster on a cruise liner . prior movies with the almost exact same storyline include 1989's \" leviathan ,  \" according to a scientist ( joanna cassidy ) . carpenter uses so many flashbacks to tell the \" night of the living dead \" -like story that the idiotic plot gets incomprehensibly confusing . but you can easily predict each of the supporting characters who will be killed ,  \" acid eats metal . \" thanks for the tip . when we first see the u . s . geological survey building ,  \" addicted to love ,  \" addicted to love . \" joseph cross was probably the highlight in the cast ,  \" after a slasher with a grudge to bear - it's a _long_ story - began trying to pick off her ,  \" again ,  \" ah ,  \" alas ,  \" aliens \" ) as the storm chaser turned weather man ; jamie gertz ( who was great in \" sibling rivalry \" ) as his new fiance ; and finally alan ruck ( very under-rated ; just look at \" ferris bueller's day off \" ) as one of the other chasers . with a cast like that ,  \" all of life's riddles are answered in the movies ! \" even foreign films are taking that advice to heart . ,  \" although i just watched him in the superb 1978 sci-fi classic \" invasion of the body snatchers ,  \" although popol vuh began in 1971 as part of the early german electronic music scene . the acting is excellent ,  \" america's sweethearts \" is a contrived ,  \" america's sweethearts \" is toothless . as a romance ,  \" american outlaws \" is a galloping ,  \" amy protests in one of the more clever lines of dialogue ) and this inspires amy to make her own movie about a campus killer who bases his murders on urban myths . but as production gets under way ,  \" an adaptation of a really awful french film ,  \" an area that one of the guests describes as \" so cool ,  \" an underwater thriller starring peter weller ,  \" analyze this ,  \" and ,  \" and \" a bug's life ,  \" and \" aliens . \" why ? because there is not one original idea in \" mission to mars . \" all of it is cribbed from other films ( and in most cases ,  \" and \" dr . strangelove ,  \" and \" high school stud #2 . \" the soundtrack is decent and imperial teen's catchy \" yoo hoo \" makes a bigger impression than any other aspect of the film . ,  \" and \" i'd like to put a deedle in her haystack . \" as the movie opens , ...]\n",
       "Index: []\n",
       "\n",
       "[0 rows x 25781 columns]"
      ]
     },
     "execution_count": 8,
     "metadata": {},
     "output_type": "execute_result"
    }
   ],
   "source": [
    "df"
   ]
  },
  {
   "cell_type": "code",
   "execution_count": null,
   "metadata": {
    "collapsed": true
   },
   "outputs": [],
   "source": []
  }
 ],
 "metadata": {
  "kernelspec": {
   "display_name": "Python 2",
   "language": "python",
   "name": "python2"
  },
  "language_info": {
   "codemirror_mode": {
    "name": "ipython",
    "version": 2
   },
   "file_extension": ".py",
   "mimetype": "text/x-python",
   "name": "python",
   "nbconvert_exporter": "python",
   "pygments_lexer": "ipython2",
   "version": "2.7.11"
  }
 },
 "nbformat": 4,
 "nbformat_minor": 0
}
